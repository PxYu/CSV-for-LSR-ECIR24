{
 "cells": [
  {
   "cell_type": "code",
   "execution_count": 1,
   "metadata": {},
   "outputs": [],
   "source": [
    "# navigate to home_project/unicoil and install using \"pip install -e .\""
   ]
  },
  {
   "cell_type": "code",
   "execution_count": null,
   "metadata": {},
   "outputs": [],
   "source": [
    "import torch\n",
    "import random\n",
    "from tqdm import tqdm\n",
    "from datasets import load_dataset\n",
    "from tevatron.arguments import DataArguments\n",
    "from torch.utils.data import DataLoader, Dataset\n",
    "from transformers import AutoConfig, AutoTokenizer\n",
    "from tevatron.data import EncodeDataset, EncodeCollator\n",
    "from tevatron.modeling import EncoderOutput, UniCoilModel\n",
    "\n",
    "\n",
    "# configure the model\n",
    "\n",
    "q_max_len = 16\n",
    "p_max_len = 384\n",
    "encode_is_qry = False\n",
    "text_max_length = q_max_len if encode_is_qry else p_max_len\n",
    "\n",
    "hf_model_name = \"pxyu/UniCOIL-MSMARCO-KL-Distillation-CSV100k\"\n",
    "\n",
    "config = AutoConfig.from_pretrained(\n",
    "    hf_model_name,\n",
    "    num_labels=1,\n",
    ")\n",
    "\n",
    "tokenizer = AutoTokenizer.from_pretrained(\n",
    "    hf_model_name,\n",
    "    use_fast=True,\n",
    ")\n",
    "\n",
    "model = UniCoilModel.load(\n",
    "    model_name_or_path=hf_model_name,\n",
    "    config=config,\n",
    ")\n",
    "\n",
    "# THIS IS IMPORTANT!\n",
    "disabled_token_ids = tokenizer.convert_tokens_to_ids([\"[SEP]\", \"[CLS]\", \"[MASK]\", \"[PAD]\"])\n",
    "model.disabled_token_ids = disabled_token_ids"
   ]
  },
  {
   "cell_type": "code",
   "execution_count": null,
   "metadata": {},
   "outputs": [],
   "source": [
    "marco_passage = load_dataset(\"Tevatron/msmarco-passage-corpus\")['train']"
   ]
  },
  {
   "cell_type": "code",
   "execution_count": null,
   "metadata": {},
   "outputs": [],
   "source": [
    "id2text = {}\n",
    "\n",
    "for x in tqdm(marco_passage):\n",
    "    \n",
    "    docid = x['docid']\n",
    "    text = x['text']\n",
    "    id2text[docid] = text\n",
    "    if len(id2text) == 100:\n",
    "        break"
   ]
  },
  {
   "cell_type": "code",
   "execution_count": null,
   "metadata": {},
   "outputs": [],
   "source": [
    "sampled_id2text = {k: id2text[k] for k in random.sample(list(id2text.keys()), 20)}"
   ]
  },
  {
   "cell_type": "code",
   "execution_count": null,
   "metadata": {},
   "outputs": [],
   "source": [
    "pairs = [{\"text_id\": k,  \"text\": tokenizer.encode(v, add_special_tokens=False)} for k, v in sampled_id2text.items()]\n",
    "encode_dataset = EncodeDataset(pairs, tokenizer, text_max_length)"
   ]
  },
  {
   "cell_type": "code",
   "execution_count": null,
   "metadata": {},
   "outputs": [],
   "source": [
    "encode_dataset[0]"
   ]
  },
  {
   "cell_type": "code",
   "execution_count": null,
   "metadata": {},
   "outputs": [],
   "source": [
    "encode_loader = DataLoader(\n",
    "    encode_dataset,\n",
    "    batch_size=4,\n",
    "    collate_fn=EncodeCollator(\n",
    "        tokenizer,\n",
    "        max_length=text_max_length,\n",
    "        padding='max_length'\n",
    "    ),\n",
    "    shuffle=False,\n",
    "    drop_last=False,\n",
    ")"
   ]
  },
  {
   "cell_type": "code",
   "execution_count": null,
   "metadata": {},
   "outputs": [],
   "source": [
    "encoded = []\n",
    "lookup_indices = []\n",
    "model.eval()\n",
    "device = \"cpu\"\n",
    "\n",
    "for (batch_ids, batch) in tqdm(encode_loader):\n",
    "    lookup_indices.extend(batch_ids)\n",
    "    with torch.no_grad():\n",
    "        for k, v in batch.items():\n",
    "            batch[k] = v.to(device)\n",
    "        if encode_is_qry:\n",
    "            model_output: EncoderOutput = model(query=batch)\n",
    "            output = model_output.q_reps.cpu().detach().numpy()\n",
    "        else:\n",
    "            model_output: EncoderOutput = model(passage=batch)\n",
    "            output = model_output.p_reps.cpu().detach().numpy()\n",
    "\n",
    "    encoded += list(map(process_output, output))\n"
   ]
  },
  {
   "cell_type": "code",
   "execution_count": null,
   "metadata": {},
   "outputs": [],
   "source": [
    "model.pooler"
   ]
  },
  {
   "cell_type": "code",
   "execution_count": null,
   "metadata": {},
   "outputs": [],
   "source": []
  }
 ],
 "metadata": {
  "kernelspec": {
   "display_name": "Python 3",
   "language": "python",
   "name": "python3"
  },
  "language_info": {
   "codemirror_mode": {
    "name": "ipython",
    "version": 3
   },
   "file_extension": ".py",
   "mimetype": "text/x-python",
   "name": "python",
   "nbconvert_exporter": "python",
   "pygments_lexer": "ipython3",
   "version": "3.8.3"
  }
 },
 "nbformat": 4,
 "nbformat_minor": 2
}
