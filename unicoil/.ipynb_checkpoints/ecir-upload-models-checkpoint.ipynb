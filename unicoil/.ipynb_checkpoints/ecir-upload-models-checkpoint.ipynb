{
 "cells": [
  {
   "cell_type": "code",
   "execution_count": 1,
   "metadata": {},
   "outputs": [],
   "source": [
    "import torch\n",
    "import torch.nn as nn\n",
    "from huggingface_hub import PyTorchModelHubMixin"
   ]
  },
  {
   "cell_type": "code",
   "execution_count": 2,
   "metadata": {},
   "outputs": [],
   "source": [
    "from transformers import AutoConfig, AutoTokenizer, AutoModel, AutoModelForMaskedLM"
   ]
  },
  {
   "cell_type": "code",
   "execution_count": 20,
   "metadata": {},
   "outputs": [
    {
     "data": {
      "application/json": {
       "ascii": false,
       "bar_format": null,
       "colour": null,
       "elapsed": 0.02522897720336914,
       "initial": 0,
       "n": 0,
       "ncols": null,
       "nrows": null,
       "postfix": null,
       "prefix": "README.md",
       "rate": null,
       "total": 5174,
       "unit": "B",
       "unit_divisor": 1000,
       "unit_scale": true
      },
      "application/vnd.jupyter.widget-view+json": {
       "model_id": "fefb27bf4f504a9aae49b203c008fff3",
       "version_major": 2,
       "version_minor": 0
      },
      "text/plain": [
       "README.md:   0%|          | 0.00/5.17k [00:00<?, ?B/s]"
      ]
     },
     "metadata": {},
     "output_type": "display_data"
    },
    {
     "data": {
      "text/plain": [
       "CommitInfo(commit_url='https://huggingface.co/pxyu/MSMARCO-V1-BERT-MLM-CSV300k/commit/cf44dd66e16d40b2babd7591678f9b4a3c9d775b', commit_message='Upload tokenizer', commit_description='', oid='cf44dd66e16d40b2babd7591678f9b4a3c9d775b', pr_url=None, pr_revision=None, pr_num=None)"
      ]
     },
     "execution_count": 20,
     "metadata": {},
     "output_type": "execute_result"
    }
   ],
   "source": [
    "local_path = \"custom_vocab/SIGIR_checkpoints/bert300k-ftv1-10epochs\"\n",
    "public_name = \"MSMARCO-V1-BERT-MLM-CSV300k\"\n",
    "\n",
    "model = AutoModelForMaskedLM.from_pretrained(local_path)\n",
    "config = model.config\n",
    "model.push_to_hub(public_name, config=config)\n",
    "tokenizer = AutoTokenizer.from_pretrained(local_path)\n",
    "tokenizer.push_to_hub(public_name)"
   ]
  },
  {
   "cell_type": "code",
   "execution_count": 21,
   "metadata": {},
   "outputs": [
    {
     "data": {
      "application/json": {
       "ascii": false,
       "bar_format": null,
       "colour": null,
       "elapsed": 0.02193307876586914,
       "initial": 0,
       "n": 0,
       "ncols": null,
       "nrows": null,
       "postfix": null,
       "prefix": "README.md",
       "rate": null,
       "total": 5174,
       "unit": "B",
       "unit_divisor": 1000,
       "unit_scale": true
      },
      "application/vnd.jupyter.widget-view+json": {
       "model_id": "ca9be7ea82eb4b9b8617bb1e5827ac50",
       "version_major": 2,
       "version_minor": 0
      },
      "text/plain": [
       "README.md:   0%|          | 0.00/5.17k [00:00<?, ?B/s]"
      ]
     },
     "metadata": {},
     "output_type": "display_data"
    },
    {
     "data": {
      "text/plain": [
       "CommitInfo(commit_url='https://huggingface.co/pxyu/MSMARCO-V2-BERT-MLM-CSV300k/commit/a172305929b80bc5c2fc3f60a5891afd9e82e41b', commit_message='Upload tokenizer', commit_description='', oid='a172305929b80bc5c2fc3f60a5891afd9e82e41b', pr_url=None, pr_revision=None, pr_num=None)"
      ]
     },
     "execution_count": 21,
     "metadata": {},
     "output_type": "execute_result"
    }
   ],
   "source": [
    "# model = AutoModelForMaskedLM.from_pretrained(\"custom_vocab/SIGIR_checkpoints/bert300k-v2-10epochs\")\n",
    "# config = model.config\n",
    "# model.push_to_hub(\"MSMARCO-V2-BERT-MLM-CSV300k\", config=config)\n",
    "\n",
    "local_path = \"custom_vocab/SIGIR_checkpoints/bert300k-v2-10epochs\"\n",
    "public_name = \"MSMARCO-V2-BERT-MLM-CSV300k\"\n",
    "\n",
    "model = AutoModelForMaskedLM.from_pretrained(local_path)\n",
    "config = model.config\n",
    "model.push_to_hub(public_name, config=config)\n",
    "tokenizer = AutoTokenizer.from_pretrained(local_path)\n",
    "tokenizer.push_to_hub(public_name)"
   ]
  },
  {
   "cell_type": "code",
   "execution_count": 22,
   "metadata": {},
   "outputs": [
    {
     "data": {
      "application/json": {
       "ascii": false,
       "bar_format": null,
       "colour": null,
       "elapsed": 0.02050924301147461,
       "initial": 0,
       "n": 0,
       "ncols": null,
       "nrows": null,
       "postfix": null,
       "prefix": "README.md",
       "rate": null,
       "total": 5174,
       "unit": "B",
       "unit_divisor": 1000,
       "unit_scale": true
      },
      "application/vnd.jupyter.widget-view+json": {
       "model_id": "38e03b4303094411b8d1843d18652d55",
       "version_major": 2,
       "version_minor": 0
      },
      "text/plain": [
       "README.md:   0%|          | 0.00/5.17k [00:00<?, ?B/s]"
      ]
     },
     "metadata": {},
     "output_type": "display_data"
    },
    {
     "data": {
      "text/plain": [
       "CommitInfo(commit_url='https://huggingface.co/pxyu/MSMARCO-V2-BERT-MLM-CSV100k/commit/9b5c6bfca4f9fbcd1053b8737cc79f25fe8e0276', commit_message='Upload tokenizer', commit_description='', oid='9b5c6bfca4f9fbcd1053b8737cc79f25fe8e0276', pr_url=None, pr_revision=None, pr_num=None)"
      ]
     },
     "execution_count": 22,
     "metadata": {},
     "output_type": "execute_result"
    }
   ],
   "source": [
    "# model = AutoModelForMaskedLM.from_pretrained(\"custom_vocab/SIGIR_checkpoints/bert100k-v2-10epochs\")\n",
    "# config = model.config\n",
    "# model.push_to_hub(\"MSMARCO-V2-BERT-MLM-CSV100k\", config=config)\n",
    "\n",
    "local_path = \"custom_vocab/SIGIR_checkpoints/bert100k-v2-10epochs\"\n",
    "public_name = \"MSMARCO-V2-BERT-MLM-CSV100k\"\n",
    "\n",
    "model = AutoModelForMaskedLM.from_pretrained(local_path)\n",
    "config = model.config\n",
    "model.push_to_hub(public_name, config=config)\n",
    "tokenizer = AutoTokenizer.from_pretrained(local_path)\n",
    "tokenizer.push_to_hub(public_name)"
   ]
  },
  {
   "cell_type": "code",
   "execution_count": 23,
   "metadata": {},
   "outputs": [
    {
     "data": {
      "application/json": {
       "ascii": false,
       "bar_format": null,
       "colour": null,
       "elapsed": 0.028332233428955078,
       "initial": 0,
       "n": 0,
       "ncols": null,
       "nrows": null,
       "postfix": null,
       "prefix": "README.md",
       "rate": null,
       "total": 5174,
       "unit": "B",
       "unit_divisor": 1000,
       "unit_scale": true
      },
      "application/vnd.jupyter.widget-view+json": {
       "model_id": "d6c0a5bb91a742d597406159772f1eb7",
       "version_major": 2,
       "version_minor": 0
      },
      "text/plain": [
       "README.md:   0%|          | 0.00/5.17k [00:00<?, ?B/s]"
      ]
     },
     "metadata": {},
     "output_type": "display_data"
    },
    {
     "data": {
      "text/plain": [
       "CommitInfo(commit_url='https://huggingface.co/pxyu/MSMARCO-V2-BERT-MLM-CSV30k/commit/3d418d61bffd7fa61d826766269763857bf33eda', commit_message='Upload tokenizer', commit_description='', oid='3d418d61bffd7fa61d826766269763857bf33eda', pr_url=None, pr_revision=None, pr_num=None)"
      ]
     },
     "execution_count": 23,
     "metadata": {},
     "output_type": "execute_result"
    }
   ],
   "source": [
    "# model = AutoModelForMaskedLM.from_pretrained(\"custom_vocab/SIGIR_checkpoints/bert30k-ftv1-10epochs\")\n",
    "# config = model.config\n",
    "# model.push_to_hub(\"MSMARCO-V2-BERT-MLM-CSV30k\", config=config)\n",
    "\n",
    "local_path = \"custom_vocab/SIGIR_checkpoints/bert30k-ftv1-10epochs\"\n",
    "public_name = \"MSMARCO-V2-BERT-MLM-CSV30k\"\n",
    "\n",
    "model = AutoModelForMaskedLM.from_pretrained(local_path)\n",
    "config = model.config\n",
    "model.push_to_hub(public_name, config=config)\n",
    "tokenizer = AutoTokenizer.from_pretrained(local_path)\n",
    "tokenizer.push_to_hub(public_name)"
   ]
  },
  {
   "cell_type": "code",
   "execution_count": null,
   "metadata": {},
   "outputs": [],
   "source": []
  },
  {
   "cell_type": "code",
   "execution_count": null,
   "metadata": {},
   "outputs": [],
   "source": []
  },
  {
   "cell_type": "code",
   "execution_count": 19,
   "metadata": {},
   "outputs": [
    {
     "data": {
      "application/json": {
       "ascii": false,
       "bar_format": null,
       "colour": null,
       "elapsed": 0.016962051391601562,
       "initial": 0,
       "n": 0,
       "ncols": null,
       "nrows": null,
       "postfix": null,
       "prefix": "README.md",
       "rate": null,
       "total": 5174,
       "unit": "B",
       "unit_divisor": 1000,
       "unit_scale": true
      },
      "application/vnd.jupyter.widget-view+json": {
       "model_id": "7475f00de57c44bb9a585ff8164010f3",
       "version_major": 2,
       "version_minor": 0
      },
      "text/plain": [
       "README.md:   0%|          | 0.00/5.17k [00:00<?, ?B/s]"
      ]
     },
     "metadata": {},
     "output_type": "display_data"
    },
    {
     "data": {
      "text/plain": [
       "CommitInfo(commit_url='https://huggingface.co/pxyu/UniCOIL-MSMARCO-KL-Distillation-CSV300k/commit/cb0fc4ceea122198d47b743d0844f175e3b2e3fb', commit_message='Upload tokenizer', commit_description='', oid='cb0fc4ceea122198d47b743d0844f175e3b2e3fb', pr_url=None, pr_revision=None, pr_num=None)"
      ]
     },
     "execution_count": 19,
     "metadata": {},
     "output_type": "execute_result"
    }
   ],
   "source": [
    "local_path = \"trained_files/debug/CIKM-bert300k-v2v1-borda10-top40-loss=kl-data=distill-ppq=8\"\n",
    "public_name = \"UniCOIL-MSMARCO-KL-Distillation-CSV300k\"\n",
    "\n",
    "model = AutoModel.from_pretrained(local_path)\n",
    "config = model.config\n",
    "model.push_to_hub(public_name, config=config)\n",
    "tokenizer = AutoTokenizer.from_pretrained(local_path)\n",
    "tokenizer.push_to_hub(public_name)"
   ]
  },
  {
   "cell_type": "code",
   "execution_count": 17,
   "metadata": {},
   "outputs": [
    {
     "data": {
      "text/plain": [
       "CommitInfo(commit_url='https://huggingface.co/pxyu/UniCOIL-MSMARCO-KL-Distillation-CSV30k/commit/54bfc5d9d7167f1cd18188d8f3ef067df5ac8389', commit_message='Upload tokenizer', commit_description='', oid='54bfc5d9d7167f1cd18188d8f3ef067df5ac8389', pr_url=None, pr_revision=None, pr_num=None)"
      ]
     },
     "execution_count": 17,
     "metadata": {},
     "output_type": "execute_result"
    }
   ],
   "source": [
    "local_path = \"trained_files/debug/bert30k-v2v1-borda10-loss=kl-data=distill-ppq=8\"\n",
    "public_name = \"UniCOIL-MSMARCO-KL-Distillation-CSV30k\"\n",
    "\n",
    "model = AutoModel.from_pretrained(local_path)\n",
    "config = model.config\n",
    "model.push_to_hub(public_name, config=config)\n",
    "tokenizer = AutoTokenizer.from_pretrained(local_path)\n",
    "tokenizer.push_to_hub(public_name)"
   ]
  },
  {
   "cell_type": "code",
   "execution_count": 18,
   "metadata": {},
   "outputs": [
    {
     "data": {
      "application/json": {
       "ascii": false,
       "bar_format": null,
       "colour": null,
       "elapsed": 0.012708902359008789,
       "initial": 0,
       "n": 0,
       "ncols": null,
       "nrows": null,
       "postfix": null,
       "prefix": "README.md",
       "rate": null,
       "total": 5174,
       "unit": "B",
       "unit_divisor": 1000,
       "unit_scale": true
      },
      "application/vnd.jupyter.widget-view+json": {
       "model_id": "a49e22ccafd9424d82fea67b71f3529f",
       "version_major": 2,
       "version_minor": 0
      },
      "text/plain": [
       "README.md:   0%|          | 0.00/5.17k [00:00<?, ?B/s]"
      ]
     },
     "metadata": {},
     "output_type": "display_data"
    },
    {
     "data": {
      "text/plain": [
       "CommitInfo(commit_url='https://huggingface.co/pxyu/UniCOIL-MSMARCO-KL-Distillation-CSV100k/commit/d43d08a89f66e9c0e5b6b9395ce025ab353ad38d', commit_message='Upload tokenizer', commit_description='', oid='d43d08a89f66e9c0e5b6b9395ce025ab353ad38d', pr_url=None, pr_revision=None, pr_num=None)"
      ]
     },
     "execution_count": 18,
     "metadata": {},
     "output_type": "execute_result"
    }
   ],
   "source": [
    "local_path = \"trained_files/debug/CIKM-bert100k-v2v1-borda10-top40-loss=kl-data=distill-ppq=8\"\n",
    "public_name = \"UniCOIL-MSMARCO-KL-Distillation-CSV100k\"\n",
    "\n",
    "model = AutoModel.from_pretrained(local_path)\n",
    "config = model.config\n",
    "model.push_to_hub(public_name, config=config)\n",
    "tokenizer = AutoTokenizer.from_pretrained(local_path)\n",
    "tokenizer.push_to_hub(public_name)"
   ]
  }
 ],
 "metadata": {
  "kernelspec": {
   "display_name": "Python 3",
   "language": "python",
   "name": "python3"
  },
  "language_info": {
   "codemirror_mode": {
    "name": "ipython",
    "version": 3
   },
   "file_extension": ".py",
   "mimetype": "text/x-python",
   "name": "python",
   "nbconvert_exporter": "python",
   "pygments_lexer": "ipython3",
   "version": "3.8.3"
  }
 },
 "nbformat": 4,
 "nbformat_minor": 4
}
